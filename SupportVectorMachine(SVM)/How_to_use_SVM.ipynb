{
  "nbformat": 4,
  "nbformat_minor": 0,
  "metadata": {
    "colab": {
      "name": "Python-DA-06-4.ipynb",
      "provenance": []
    },
    "kernelspec": {
      "name": "python3",
      "display_name": "Python 3"
    },
    "language_info": {
      "name": "python"
    }
  },
  "cells": [
    {
      "cell_type": "code",
      "execution_count": 1,
      "metadata": {
        "id": "R1w1ISjsVyba"
      },
      "outputs": [],
      "source": [
        "from sklearn import svm\n",
        "import numpy as np\n",
        "import matplotlib.pyplot as plt"
      ]
    },
    {
      "cell_type": "code",
      "source": [
        "# 학습용 데이터(기존 개체)\n",
        "# 입력\n",
        "X_train = np.array([[2, 3], [1, 2]])\n",
        "# 라벨\n",
        "y_train = np.array([1, -1])"
      ],
      "metadata": {
        "id": "ydhYTdU2V2rN"
      },
      "execution_count": 2,
      "outputs": []
    },
    {
      "cell_type": "code",
      "source": [
        "# 테스트 데이터\n",
        "# 입력\n",
        "X_test = np.array([[3, 3]])"
      ],
      "metadata": {
        "id": "zmD_J82dV6W9"
      },
      "execution_count": 3,
      "outputs": []
    },
    {
      "cell_type": "code",
      "source": [
        "# 산포도\n",
        "# 학습용 데이터\n",
        "plt.scatter(X_train[:, 0],  X_train[:, 1], c=y_train)\n",
        "# 테스트용 데이터\n",
        "plt.scatter(X_test[:, 0],  X_test[:, 1], c='red', marker = 'D', s=100)\n",
        "plt.xlabel('x1')\n",
        "plt.ylabel('x2')\n",
        "plt.xlim(0, 5)\n",
        "plt.ylim(0, 5)\n",
        "plt.show() "
      ],
      "metadata": {
        "colab": {
          "base_uri": "https://localhost:8080/",
          "height": 283
        },
        "id": "f6s5yAJGV82W",
        "outputId": "d2f03e85-2a33-4775-ddc4-031c6f437be2"
      },
      "execution_count": 4,
      "outputs": [
        {
          "output_type": "display_data",
          "data": {
            "text/plain": [
              "<Figure size 432x288 with 1 Axes>"
            ],
            "image/png": "[encoded data removed]"
          },
          "metadata": {
            "needs_background": "light"
          }
        }
      ]
    },
    {
      "cell_type": "code",
      "source": [
        "# SVM 분류 모형화\n",
        "clf = svm.SVC(kernel='linear')"
      ],
      "metadata": {
        "id": "jCn21Hm0V_cr"
      },
      "execution_count": 5,
      "outputs": []
    },
    {
      "cell_type": "code",
      "source": [
        "# 모형 학습\n",
        "clf.fit(X_train, y_train)"
      ],
      "metadata": {
        "colab": {
          "base_uri": "https://localhost:8080/"
        },
        "id": "xQ6gc1jYWBvZ",
        "outputId": "9c3875f3-ee37-4a29-a182-110e8e7c719f"
      },
      "execution_count": 6,
      "outputs": [
        {
          "output_type": "execute_result",
          "data": {
            "text/plain": [
              "SVC(kernel='linear')"
            ]
          },
          "metadata": {},
          "execution_count": 6
        }
      ]
    },
    {
      "cell_type": "code",
      "source": [
        "# 분류별 서포트 벡터의 수\n",
        "print(clf.n_support_)"
      ],
      "metadata": {
        "colab": {
          "base_uri": "https://localhost:8080/"
        },
        "id": "2BQqETKGWEFG",
        "outputId": "829b1604-89df-41ff-e8f3-f5e014158974"
      },
      "execution_count": 7,
      "outputs": [
        {
          "output_type": "stream",
          "name": "stdout",
          "text": [
            "[1 1]\n"
          ]
        }
      ]
    },
    {
      "cell_type": "code",
      "source": [
        "# 서포트 벡터\n",
        "print(clf.support_vectors_)"
      ],
      "metadata": {
        "colab": {
          "base_uri": "https://localhost:8080/"
        },
        "id": "UOqRcL2eWHND",
        "outputId": "2f8f7be6-ec7f-4f15-8839-5bd381595038"
      },
      "execution_count": 8,
      "outputs": [
        {
          "output_type": "stream",
          "name": "stdout",
          "text": [
            "[[1. 2.]\n",
            " [2. 3.]]\n"
          ]
        }
      ]
    },
    {
      "cell_type": "code",
      "source": [
        "# 서포트 벡터의 색인\n",
        "print(clf.support_)"
      ],
      "metadata": {
        "colab": {
          "base_uri": "https://localhost:8080/"
        },
        "id": "5FSkkSPkWJUI",
        "outputId": "c5cd7ca3-d853-4188-98af-c6a54094cabb"
      },
      "execution_count": 9,
      "outputs": [
        {
          "output_type": "stream",
          "name": "stdout",
          "text": [
            "[1 0]\n"
          ]
        }
      ]
    },
    {
      "cell_type": "code",
      "source": [
        "# 각 개체들의 색인별 분류\n",
        "print(clf.classes_)"
      ],
      "metadata": {
        "colab": {
          "base_uri": "https://localhost:8080/"
        },
        "id": "QCbHmwzlWL3C",
        "outputId": "34938abb-66cf-47f6-9af0-b6c897135e91"
      },
      "execution_count": 10,
      "outputs": [
        {
          "output_type": "stream",
          "name": "stdout",
          "text": [
            "[-1  1]\n"
          ]
        }
      ]
    },
    {
      "cell_type": "code",
      "source": [
        "# W: 가중치\n",
        "print(clf.coef_)"
      ],
      "metadata": {
        "colab": {
          "base_uri": "https://localhost:8080/"
        },
        "id": "bZ1H-cBPWOrS",
        "outputId": "93d44695-3481-40da-dd51-3da3c9dbb62f"
      },
      "execution_count": 11,
      "outputs": [
        {
          "output_type": "stream",
          "name": "stdout",
          "text": [
            "[[1. 1.]]\n"
          ]
        }
      ]
    },
    {
      "cell_type": "code",
      "source": [
        "# b: 편향\n",
        "print(clf.intercept_)"
      ],
      "metadata": {
        "colab": {
          "base_uri": "https://localhost:8080/"
        },
        "id": "ny14QjgmWQ0I",
        "outputId": "c3126be1-e8d0-461e-d807-0c5f5281c0ad"
      },
      "execution_count": 12,
      "outputs": [
        {
          "output_type": "stream",
          "name": "stdout",
          "text": [
            "[-4.]\n"
          ]
        }
      ]
    },
    {
      "cell_type": "code",
      "source": [
        "# 테스트 데이터의 분류\n",
        "y_pred = clf.predict(X_test)\n",
        "print(y_pred)"
      ],
      "metadata": {
        "colab": {
          "base_uri": "https://localhost:8080/"
        },
        "id": "t-Haw7_MWTE2",
        "outputId": "6373d70b-bb94-447e-8ad0-dff0279b108f"
      },
      "execution_count": 13,
      "outputs": [
        {
          "output_type": "stream",
          "name": "stdout",
          "text": [
            "[1]\n"
          ]
        }
      ]
    }
  ]
}