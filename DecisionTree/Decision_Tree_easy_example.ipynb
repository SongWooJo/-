{
  "nbformat": 4,
  "nbformat_minor": 0,
  "metadata": {
    "colab": {
      "provenance": []
    },
    "kernelspec": {
      "name": "python3",
      "display_name": "Python 3"
    },
    "language_info": {
      "name": "python"
    }
  },
  "cells": [
    {
      "cell_type": "code",
      "execution_count": null,
      "metadata": {
        "colab": {
          "base_uri": "https://localhost:8080/"
        },
        "id": "XjVJHfas51kL",
        "outputId": "5f3ebe9b-0c93-4c1f-cb25-38e1b3ce7ea7"
      },
      "outputs": [
        {
          "output_type": "stream",
          "name": "stdout",
          "text": [
            "0.9709505944546686\n"
          ]
        }
      ],
      "source": [
        "import math\n",
        "x = 4/10\n",
        "y = -(x*math.log2(x)+(1-x)*math.log2(1-x))\n",
        "print(y)"
      ]
    },
    {
      "cell_type": "code",
      "source": [
        "from sklearn import tree\n",
        "from sklearn.model_selection import train_test_split\n",
        "from sklearn.metrics import confusion_matrix, accuracy_score\n",
        "from matplotlib import pyplot as plt"
      ],
      "metadata": {
        "id": "r4bHriHl-1Fh"
      },
      "execution_count": null,
      "outputs": []
    },
    {
      "cell_type": "code",
      "source": [
        "#주택을 소유했을 때 1, 아니면 0\n",
        "#자가용 배기량이 소형일 때 0, 중형일 때 1, 대형일 때 2\n",
        "#신용등급이 A일때 0, B일때 1\n",
        "X = [[0,0],\n",
        "     [0,0],\n",
        "     [0,0],\n",
        "     [0,1],\n",
        "     [1,0],\n",
        "     [1,0],\n",
        "     [1,1],\n",
        "     [1,1],\n",
        "     [1,2],\n",
        "     [1,2]]\n",
        "\n",
        "y = [1,1,1,1,0,0,0,0,0,0]\n",
        "\n",
        "X_train, X_test, y_train, y_test = train_test_split(X, y, test_size=0.2, random_state=1234)\n",
        "\n",
        "clf = tree.DecisionTreeClassifier(criterion = \"entropy\")\n",
        "\n",
        "clf = clf.fit(X_train, y_train)\n",
        "\n",
        "plt.figure(figsize=(3, 3))\n",
        "\n",
        "tree.plot_tree(clf)\n",
        "plt.show()"
      ],
      "metadata": {
        "colab": {
          "base_uri": "https://localhost:8080/",
          "height": 268
        },
        "id": "M0dfyvD-Dk6M",
        "outputId": "a421e73f-1a16-4b63-d23f-90fb10f87b4d"
      },
      "execution_count": null,
      "outputs": [
        {
          "output_type": "display_data",
          "data": {
            "text/plain": [
              "<Figure size 300x300 with 1 Axes>"
            ],
            "image/png": "[encoded data removed]"
          },
          "metadata": {}
        }
      ]
    }
  ]
}